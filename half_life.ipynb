{
 "cells": [
  {
   "cell_type": "code",
   "execution_count": 1,
   "metadata": {},
   "outputs": [],
   "source": [
    "import numpy as np\n",
    "import pandas as pd\n",
    "import seaborn as sns\n",
    "from half_life import *"
   ]
  },
  {
   "cell_type": "code",
   "execution_count": 2,
   "metadata": {},
   "outputs": [
    {
     "data": {
      "image/png": "[encoded data removed]",
      "text/plain": [
       "<Figure size 360x360 with 1 Axes>"
      ]
     },
     "metadata": {},
     "output_type": "display_data"
    }
   ],
   "source": [
    "%run half_life.py"
   ]
  },
  {
   "cell_type": "code",
   "execution_count": 3,
   "metadata": {},
   "outputs": [],
   "source": [
    "x = np.arange(0,10,.1)"
   ]
  },
  {
   "cell_type": "code",
   "execution_count": 4,
   "metadata": {},
   "outputs": [],
   "source": [
    "cols = range(1,5)"
   ]
  },
  {
   "cell_type": "code",
   "execution_count": 5,
   "metadata": {},
   "outputs": [],
   "source": [
    "def series(c):\n",
    "    return pd.Series([decay(i, c) for i in x], index=x)"
   ]
  },
  {
   "cell_type": "code",
   "execution_count": 6,
   "metadata": {},
   "outputs": [
    {
     "data": {
      "text/plain": [
       "0.0    8.000000\n",
       "0.1    7.464264\n",
       "0.2    6.964405\n",
       "0.3    6.498019\n",
       "0.4    6.062866\n",
       "         ...   \n",
       "9.5    0.011049\n",
       "9.6    0.010309\n",
       "9.7    0.009618\n",
       "9.8    0.008974\n",
       "9.9    0.008373\n",
       "Length: 100, dtype: float64"
      ]
     },
     "execution_count": 6,
     "metadata": {},
     "output_type": "execute_result"
    }
   ],
   "source": [
    "series(3)"
   ]
  },
  {
   "cell_type": "code",
   "execution_count": 7,
   "metadata": {},
   "outputs": [],
   "source": [
    "y = pd.DataFrame([series(c) for c in cols])"
   ]
  },
  {
   "cell_type": "code",
   "execution_count": 8,
   "metadata": {},
   "outputs": [
    {
     "data": {
      "text/html": [
       "<div>\n",
       "<style scoped>\n",
       "    .dataframe tbody tr th:only-of-type {\n",
       "        vertical-align: middle;\n",
       "    }\n",
       "\n",
       "    .dataframe tbody tr th {\n",
       "        vertical-align: top;\n",
       "    }\n",
       "\n",
       "    .dataframe thead th {\n",
       "        text-align: right;\n",
       "    }\n",
       "</style>\n",
       "<table border=\"1\" class=\"dataframe\">\n",
       "  <thead>\n",
       "    <tr style=\"text-align: right;\">\n",
       "      <th></th>\n",
       "      <th>0.0</th>\n",
       "      <th>0.1</th>\n",
       "      <th>0.2</th>\n",
       "      <th>0.3</th>\n",
       "      <th>0.4</th>\n",
       "      <th>0.5</th>\n",
       "      <th>0.6</th>\n",
       "      <th>0.7</th>\n",
       "      <th>0.8</th>\n",
       "      <th>0.9</th>\n",
       "      <th>...</th>\n",
       "      <th>9.0</th>\n",
       "      <th>9.1</th>\n",
       "      <th>9.2</th>\n",
       "      <th>9.3</th>\n",
       "      <th>9.4</th>\n",
       "      <th>9.5</th>\n",
       "      <th>9.6</th>\n",
       "      <th>9.7</th>\n",
       "      <th>9.8</th>\n",
       "      <th>9.9</th>\n",
       "    </tr>\n",
       "  </thead>\n",
       "  <tbody>\n",
       "    <tr>\n",
       "      <th>0</th>\n",
       "      <td>2.0</td>\n",
       "      <td>1.866066</td>\n",
       "      <td>1.741101</td>\n",
       "      <td>1.624505</td>\n",
       "      <td>1.515717</td>\n",
       "      <td>1.414214</td>\n",
       "      <td>1.319508</td>\n",
       "      <td>1.231144</td>\n",
       "      <td>1.148698</td>\n",
       "      <td>1.071773</td>\n",
       "      <td>...</td>\n",
       "      <td>0.003906</td>\n",
       "      <td>0.003645</td>\n",
       "      <td>0.003401</td>\n",
       "      <td>0.003173</td>\n",
       "      <td>0.002960</td>\n",
       "      <td>0.002762</td>\n",
       "      <td>0.002577</td>\n",
       "      <td>0.002405</td>\n",
       "      <td>0.002244</td>\n",
       "      <td>0.002093</td>\n",
       "    </tr>\n",
       "    <tr>\n",
       "      <th>1</th>\n",
       "      <td>4.0</td>\n",
       "      <td>3.732132</td>\n",
       "      <td>3.482202</td>\n",
       "      <td>3.249010</td>\n",
       "      <td>3.031433</td>\n",
       "      <td>2.828427</td>\n",
       "      <td>2.639016</td>\n",
       "      <td>2.462289</td>\n",
       "      <td>2.297397</td>\n",
       "      <td>2.143547</td>\n",
       "      <td>...</td>\n",
       "      <td>0.007812</td>\n",
       "      <td>0.007289</td>\n",
       "      <td>0.006801</td>\n",
       "      <td>0.006346</td>\n",
       "      <td>0.005921</td>\n",
       "      <td>0.005524</td>\n",
       "      <td>0.005154</td>\n",
       "      <td>0.004809</td>\n",
       "      <td>0.004487</td>\n",
       "      <td>0.004187</td>\n",
       "    </tr>\n",
       "    <tr>\n",
       "      <th>2</th>\n",
       "      <td>8.0</td>\n",
       "      <td>7.464264</td>\n",
       "      <td>6.964405</td>\n",
       "      <td>6.498019</td>\n",
       "      <td>6.062866</td>\n",
       "      <td>5.656854</td>\n",
       "      <td>5.278032</td>\n",
       "      <td>4.924578</td>\n",
       "      <td>4.594793</td>\n",
       "      <td>4.287094</td>\n",
       "      <td>...</td>\n",
       "      <td>0.015625</td>\n",
       "      <td>0.014579</td>\n",
       "      <td>0.013602</td>\n",
       "      <td>0.012691</td>\n",
       "      <td>0.011842</td>\n",
       "      <td>0.011049</td>\n",
       "      <td>0.010309</td>\n",
       "      <td>0.009618</td>\n",
       "      <td>0.008974</td>\n",
       "      <td>0.008373</td>\n",
       "    </tr>\n",
       "    <tr>\n",
       "      <th>3</th>\n",
       "      <td>16.0</td>\n",
       "      <td>14.928528</td>\n",
       "      <td>13.928809</td>\n",
       "      <td>12.996038</td>\n",
       "      <td>12.125733</td>\n",
       "      <td>11.313708</td>\n",
       "      <td>10.556063</td>\n",
       "      <td>9.849155</td>\n",
       "      <td>9.189587</td>\n",
       "      <td>8.574188</td>\n",
       "      <td>...</td>\n",
       "      <td>0.031250</td>\n",
       "      <td>0.029157</td>\n",
       "      <td>0.027205</td>\n",
       "      <td>0.025383</td>\n",
       "      <td>0.023683</td>\n",
       "      <td>0.022097</td>\n",
       "      <td>0.020617</td>\n",
       "      <td>0.019237</td>\n",
       "      <td>0.017948</td>\n",
       "      <td>0.016746</td>\n",
       "    </tr>\n",
       "  </tbody>\n",
       "</table>\n",
       "<p>4 rows × 100 columns</p>\n",
       "</div>"
      ],
      "text/plain": [
       "    0.0        0.1        0.2        0.3        0.4        0.5        0.6  \\\n",
       "0   2.0   1.866066   1.741101   1.624505   1.515717   1.414214   1.319508   \n",
       "1   4.0   3.732132   3.482202   3.249010   3.031433   2.828427   2.639016   \n",
       "2   8.0   7.464264   6.964405   6.498019   6.062866   5.656854   5.278032   \n",
       "3  16.0  14.928528  13.928809  12.996038  12.125733  11.313708  10.556063   \n",
       "\n",
       "        0.7       0.8       0.9  ...       9.0       9.1       9.2       9.3  \\\n",
       "0  1.231144  1.148698  1.071773  ...  0.003906  0.003645  0.003401  0.003173   \n",
       "1  2.462289  2.297397  2.143547  ...  0.007812  0.007289  0.006801  0.006346   \n",
       "2  4.924578  4.594793  4.287094  ...  0.015625  0.014579  0.013602  0.012691   \n",
       "3  9.849155  9.189587  8.574188  ...  0.031250  0.029157  0.027205  0.025383   \n",
       "\n",
       "        9.4       9.5       9.6       9.7       9.8       9.9  \n",
       "0  0.002960  0.002762  0.002577  0.002405  0.002244  0.002093  \n",
       "1  0.005921  0.005524  0.005154  0.004809  0.004487  0.004187  \n",
       "2  0.011842  0.011049  0.010309  0.009618  0.008974  0.008373  \n",
       "3  0.023683  0.022097  0.020617  0.019237  0.017948  0.016746  \n",
       "\n",
       "[4 rows x 100 columns]"
      ]
     },
     "execution_count": 8,
     "metadata": {},
     "output_type": "execute_result"
    }
   ],
   "source": [
    "y"
   ]
  },
  {
   "cell_type": "code",
   "execution_count": 9,
   "metadata": {},
   "outputs": [
    {
     "data": {
      "text/plain": [
       "<seaborn.axisgrid.FacetGrid at 0x7f00a063c190>"
      ]
     },
     "execution_count": 9,
     "metadata": {},
     "output_type": "execute_result"
    },
    {
     "data": {
      "image/png": "[encoded data removed]",
      "text/plain": [
       "<Figure size 406.6x360 with 1 Axes>"
      ]
     },
     "metadata": {},
     "output_type": "display_data"
    }
   ],
   "source": [
    "sns.relplot(data=y.T, kind=\"line\")"
   ]
  },
  {
   "cell_type": "code",
   "execution_count": 10,
   "metadata": {},
   "outputs": [
    {
     "data": {
      "text/plain": [
       "<function seaborn.distributions.displot(data=None, *, x=None, y=None, hue=None, row=None, col=None, weights=None, kind='hist', rug=False, rug_kws=None, log_scale=None, legend=True, palette=None, hue_order=None, hue_norm=None, color=None, col_wrap=None, row_order=None, col_order=None, height=5, aspect=1, facet_kws=None, **kwargs)>"
      ]
     },
     "execution_count": 10,
     "metadata": {},
     "output_type": "execute_result"
    }
   ],
   "source": [
    "sns.displot"
   ]
  },
  {
   "cell_type": "code",
   "execution_count": 11,
   "metadata": {},
   "outputs": [],
   "source": [
    "cum_sum??"
   ]
  },
  {
   "cell_type": "code",
   "execution_count": null,
   "metadata": {},
   "outputs": [],
   "source": []
  }
 ],
 "metadata": {
  "kernelspec": {
   "display_name": "Python 3",
   "language": "python",
   "name": "python3"
  },
  "language_info": {
   "codemirror_mode": {
    "name": "ipython",
    "version": 3
   },
   "file_extension": ".py",
   "mimetype": "text/x-python",
   "name": "python",
   "nbconvert_exporter": "python",
   "pygments_lexer": "ipython3",
   "version": "3.8.3"
  }
 },
 "nbformat": 4,
 "nbformat_minor": 4
}
